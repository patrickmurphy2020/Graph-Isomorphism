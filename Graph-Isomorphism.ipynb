{
 "cells": [
  {
   "cell_type": "markdown",
   "id": "5299061e",
   "metadata": {},
   "source": [
    "# Graph-Isomorphism\n",
    "***"
   ]
  },
  {
   "cell_type": "code",
   "execution_count": 1,
   "id": "8535b561",
   "metadata": {},
   "outputs": [],
   "source": [
    "# Plots.\n",
    "import matplotlib.pyplot as plt"
   ]
  },
  {
   "cell_type": "code",
   "execution_count": 2,
   "id": "4610fa13",
   "metadata": {},
   "outputs": [],
   "source": [
    "# Resize plots.\n",
    "plt.rcParams['figure.figsize'] = (5, 5)"
   ]
  },
  {
   "cell_type": "code",
   "execution_count": 3,
   "id": "2c58a8ae",
   "metadata": {},
   "outputs": [],
   "source": [
    "# Matrices.\n",
    "import numpy as np"
   ]
  },
  {
   "cell_type": "code",
   "execution_count": 4,
   "id": "ab83cf99",
   "metadata": {},
   "outputs": [],
   "source": [
    "# Permutations\n",
    "import itertools as it"
   ]
  },
  {
   "cell_type": "code",
   "execution_count": 5,
   "id": "84f00c02",
   "metadata": {},
   "outputs": [],
   "source": [
    "# Graphs.\n",
    "import networkx as nx"
   ]
  },
  {
   "cell_type": "code",
   "execution_count": 6,
   "id": "528fb91a",
   "metadata": {},
   "outputs": [],
   "source": [
    "# Math.\n",
    "import math"
   ]
  },
  {
   "cell_type": "code",
   "execution_count": 21,
   "id": "dd193739",
   "metadata": {},
   "outputs": [],
   "source": [
    "# Networkx drawing parameters.\n",
    "params = {'node_color': 'red', 'node_size': 800, 'font_size': 18, 'with_labels': True}"
   ]
  },
  {
   "cell_type": "markdown",
   "id": "8142cd1e",
   "metadata": {},
   "source": [
    "<br>\n",
    "\n",
    "# Graphs\n",
    "***"
   ]
  },
  {
   "cell_type": "code",
   "execution_count": 8,
   "id": "d030bde5",
   "metadata": {},
   "outputs": [],
   "source": [
    "# Create an empty graph.\n",
    "G = nx.Graph()"
   ]
  },
  {
   "cell_type": "code",
   "execution_count": 9,
   "id": "40f18737",
   "metadata": {},
   "outputs": [],
   "source": [
    "# Create a set of edges.\n",
    "# Note that ideally this would be written as {{0, 1}, {1, 2}, {0, 2}}.\n",
    "# E should be a set of two-subsets of a finite set V (which is defined implicitly from E).\n",
    "E = ((0, 1), (1, 2), (0, 2))"
   ]
  },
  {
   "cell_type": "code",
   "execution_count": 11,
   "id": "af41f55f",
   "metadata": {},
   "outputs": [],
   "source": [
    "# Incorporate the edges in G.\n",
    "# The nodes are just created as needed, based on E.\n",
    "G.add_edges_from(E)"
   ]
  },
  {
   "cell_type": "code",
   "execution_count": 22,
   "id": "e4a39fda",
   "metadata": {},
   "outputs": [
    {
     "data": {
      "image/png": "[encoded data removed]",
      "text/plain": [
       "<Figure size 360x360 with 1 Axes>"
      ]
     },
     "metadata": {},
     "output_type": "display_data"
    }
   ],
   "source": [
    "# Draw G.\n",
    "nx.draw_circular(G, **params)"
   ]
  },
  {
   "cell_type": "code",
   "execution_count": null,
   "id": "d944b040",
   "metadata": {},
   "outputs": [],
   "source": []
  }
 ],
 "metadata": {
  "kernelspec": {
   "display_name": "Python 3 (ipykernel)",
   "language": "python",
   "name": "python3"
  },
  "language_info": {
   "codemirror_mode": {
    "name": "ipython",
    "version": 3
   },
   "file_extension": ".py",
   "mimetype": "text/x-python",
   "name": "python",
   "nbconvert_exporter": "python",
   "pygments_lexer": "ipython3",
   "version": "3.9.7"
  }
 },
 "nbformat": 4,
 "nbformat_minor": 5
}
